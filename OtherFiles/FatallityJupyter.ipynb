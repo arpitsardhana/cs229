{
  "nbformat": 4,
  "nbformat_minor": 0,
  "metadata": {
    "colab": {
      "provenance": []
    },
    "kernelspec": {
      "name": "python3",
      "display_name": "Python 3"
    },
    "language_info": {
      "name": "python"
    }
  },
  "cells": [
    {
      "cell_type": "code",
      "execution_count": 14,
      "metadata": {
        "colab": {
          "base_uri": "https://localhost:8080/"
        },
        "id": "_-HOIimtJdHM",
        "outputId": "4e1a5113-6ae4-4ed0-b887-25f48827bdae"
      },
      "outputs": [
        {
          "output_type": "stream",
          "name": "stdout",
          "text": [
            "Training samples:  200\n",
            "Testing samples:  99\n"
          ]
        }
      ],
      "source": [
        "# Dataset loading from util libary\n",
        "import matplotlib.pyplot as plt\n",
        "from sklearn.model_selection import train_test_split\n",
        "import numpy as np\n",
        "\n",
        "def add_intercept(x):\n",
        "     \"\"\"Add intercept to matrix x.\n",
        "\n",
        "     Args:\n",
        "         x: 2D NumPy array.\n",
        "\n",
        "     Returns:\n",
        "         New matrix same as x with 1's in the 0th column.\n",
        "     \"\"\"\n",
        "     new_x = np.zeros((x.shape[0], x.shape[1] + 1), dtype=x.dtype)\n",
        "     new_x[:, 0] = 1\n",
        "     new_x[:, 1:] = x\n",
        "\n",
        "     return new_x\n",
        "\n",
        "def load_dataset(csv_path, label_col='y', add_intercept=False):\n",
        "     \"\"\"Load dataset from a CSV file.\n",
        "\n",
        "     Args:\n",
        "          csv_path: Path to CSV file containing dataset.\n",
        "          label_col: Name of column to use as labels (should be 'y' or 't').\n",
        "          add_intercept: Add an intercept entry to x-values.\n",
        "\n",
        "     Returns:\n",
        "         xs: Numpy array of x-values (inputs).\n",
        "         ys: Numpy array of y-values (labels).\n",
        "     \"\"\"\n",
        "\n",
        "     def add_intercept_fn(x):\n",
        "         global add_intercept\n",
        "         return add_intercept(x)\n",
        "\n",
        "     # Validate label_col argument\n",
        "     #allowed_label_cols = ('y', 't')\n",
        "     #if label_col not in allowed_label_cols:\n",
        "     #    raise ValueError('Invalid label_col: {} (expected {})'\n",
        "     #                     .format(label_col, allowed_label_cols))\n",
        "\n",
        "     # Load headers\n",
        "     with open(csv_path, 'r') as csv_fh:\n",
        "         headers = csv_fh.readline().strip().split(',')\n",
        "\n",
        "     # Load features and labels\n",
        "     x_cols = [i for i in range(len(headers)) if headers[i] != label_col]\n",
        "     l_cols = [i for i in range(len(headers)) if headers[i] == label_col]\n",
        "     inputs = np.loadtxt(csv_path, delimiter=',', skiprows=1, usecols=x_cols)\n",
        "     labels = np.loadtxt(csv_path, delimiter=',', skiprows=1, usecols=l_cols)\n",
        "\n",
        "     if inputs.ndim == 1:\n",
        "         inputs = np.expand_dims(inputs, -1)\n",
        "\n",
        "     if add_intercept:\n",
        "         inputs = add_intercept_fn(inputs)\n",
        "\n",
        "     return inputs, labels\n",
        "\n",
        "x,y = load_dataset('heart_failure_clinical_records_dataset.csv', label_col='DEATH_EVENT', add_intercept=False)\n",
        "X_train, X_test, y_train, y_test = train_test_split(x,y, test_size=0.33, random_state=42)\n",
        "print(\"Training samples: \", len(X_train))\n",
        "print(\"Testing samples: \", len(X_test))\n",
        "#print(x[0,0], y[0])"
      ]
    },
    {
      "cell_type": "code",
      "source": [
        "#Data exploration\n",
        "import pandas as pd\n",
        "from pathlib import Path\n",
        "hf = pd.read_csv(Path(\"heart_failure_clinical_records_dataset.csv\"))\n",
        "\n",
        "IMAGES_PATH = Path() / \"images\" / \"heart_failure\"\n",
        "IMAGES_PATH.mkdir(parents=True, exist_ok=True)\n",
        "\n",
        "def save_fig(fig_id, tight_layout=True, fig_extension=\"png\", resolution=300):\n",
        "    path = IMAGES_PATH / f\"{fig_id}.{fig_extension}\"\n",
        "    if tight_layout:\n",
        "        plt.tight_layout()\n",
        "    plt.savefig(path, format=fig_extension, dpi=resolution)\n",
        "\n",
        "#1. Take the first look at data\n",
        "#hf.head()\n",
        "\n",
        "#2. Data columns and their count/types\n",
        "#hf.info()\n",
        "\n",
        "#3. The mean, median quartile of data\n",
        "#hf.describe()\n",
        "\n",
        "#4. Plot data as histogram\n",
        "#import matplotlib.pyplot as plt\n",
        "#plt.rc('font', size=14)\n",
        "#plt.rc('axes', labelsize=14, titlesize=14)\n",
        "#plt.rc('legend', fontsize=14)\n",
        "#plt.rc('xtick', labelsize=10)\n",
        "#plt.rc('ytick', labelsize=10)\n",
        "#hf.hist(bins=20, figsize=(15,10))\n",
        "#plt.show()\n",
        "\n",
        "#5. Age category proportions??\n",
        "\n",
        "hf[\"age_cat\"] = pd.cut(hf[\"age\"],\n",
        "                               bins=[0.,20.,30.,35.,40.,45.,50.,55.,60.,65.,70.,75.,80.,85.,90.,np.inf],\n",
        "                               labels=[1, 2, 3, 4, 5,6,7,8,9,10,11,12,13,14,15])\n",
        "hf[\"age_cat\"].value_counts().sort_index().plot.bar(rot=0, grid=True)\n",
        "plt.xlabel(\"Age category\")\n",
        "plt.ylabel(\"Total samples\")\n",
        "#save_fig(\"age_cat_bar_plot\")  # extra code\n",
        "plt.show()\n",
        "#TODO\n",
        "\n",
        "#6. Stratified split"
      ],
      "metadata": {
        "id": "O3XMDKc_cQt6"
      },
      "execution_count": null,
      "outputs": []
    },
    {
      "cell_type": "code",
      "source": [
        "# Scatter matrix of different features and creating new features\n",
        "# Correlation matrix\n",
        "import pandas as pd\n",
        "from pathlib import Path\n",
        "hf = pd.read_csv(Path(\"heart_failure_clinical_records_dataset.csv\"))\n",
        "import matplotlib.pyplot as plt\n",
        "#corr_matrix = hf.corr()\n",
        "import numpy as np\n",
        "#print(corr_matrix[\"DEATH_EVENT\"].sort_values(ascending=False))\n",
        "\n",
        "#from pandas.plotting import scatter_matrix\n",
        "plt.rc('font', size=14)\n",
        "plt.rc('axes', labelsize=14, titlesize=14)\n",
        "plt.rc('legend', fontsize=14)\n",
        "plt.rc('xtick', labelsize=10)\n",
        "plt.rc('ytick', labelsize=10)\n",
        "#f.hist(bins=20, figsize=(15,10))\n",
        "#attributes = [\"DEATH_EVENT\", \"age\", \"serum_creatinine\", \"time\"]\n",
        "#attributes = [\"serum_creatinine\", \"creatinine_phosphokinase\", \"anaemia\", \"platelets\", \"serum_sodium\"]\n",
        "#scatter_matrix(hf[attributes], figsize=(15,10))\n",
        "#plt.show()\n",
        "\n",
        "#hf[\"creatine_per_sodium\"] = hf[\"serum_creatinine\"] / hf[\"serum_sodium\"]\n",
        "#hf[\"platelets_per_sodium\"] = hf[\"platelets\"] / hf[\"serum_sodium\"]\n",
        "#hf[\"phosphokinase_per_sodium\"] = hf[\"creatinine_phosphokinase\"] / hf[\"serum_sodium\"]\n",
        "#newcorr = hf.corr()\n",
        "#newcorr[\"DEATH_EVENT\"].sort_values(ascending=False)\n"
      ],
      "metadata": {
        "id": "3MN9yCwf3DM6"
      },
      "execution_count": 20,
      "outputs": []
    },
    {
      "cell_type": "code",
      "source": [
        "#Clean the data, filling in missing values and imputing values\n",
        "import pandas as pd\n",
        "from pathlib import Path\n",
        "hf = pd.read_csv(Path(\"heart_failure_clinical_records_dataset.csv\"))\n",
        "import matplotlib.pyplot as plt\n",
        "import numpy as np\n",
        "\n",
        "# Handle missing values\n",
        "#median = hf[\"platelets\"].median()\n",
        "#print(median)\n",
        "#hf[\"platelets\"].fillna(median, inplace=True)\n",
        "\n",
        "# Impute values ie change missing values to mean\n",
        "# apply same tranformation to test train and validation set: KNN imputer, iterative imputer\n",
        "from sklearn.impute import SimpleImputer\n",
        "imputer = SimpleImputer(strategy=\"median\")\n",
        "\n",
        "hf_num = hf.select_dtypes(include=[np.number])\n",
        "imputer.fit(hf_num)\n",
        "\n",
        "#print(imputer.statistics_)\n",
        "#print(hf_num.median().values)\n",
        "\n",
        "x = imputer.transform(hf_num)\n",
        "\n",
        "# dealing with outliers\n",
        "#from sklearn.ensemble import IsolationForest\n",
        "#isolationFt = IsolationForest(random_state=42)\n",
        "#isolationPred = isolationFt.fit_predict(x)\n",
        "#isolationPred"
      ],
      "metadata": {
        "colab": {
          "base_uri": "https://localhost:8080/"
        },
        "id": "ReOA4EZio0Rt",
        "outputId": "29703fcf-f26b-4f64-d815-2cebb1c54048"
      },
      "execution_count": 29,
      "outputs": [
        {
          "output_type": "execute_result",
          "data": {
            "text/plain": [
              "array([-1, -1, -1,  1, -1, -1,  1, -1, -1, -1, -1,  1,  1,  1,  1, -1,  1,\n",
              "       -1,  1, -1,  1,  1,  1,  1, -1, -1, -1, -1, -1, -1, -1, -1,  1,  1,\n",
              "       -1,  1, -1, -1, -1, -1,  1, -1, -1,  1, -1, -1, -1, -1, -1,  1,  1,\n",
              "       -1, -1,  1, -1, -1,  1,  1,  1, -1, -1, -1,  1,  1, -1, -1, -1,  1,\n",
              "        1,  1,  1,  1, -1,  1,  1,  1, -1,  1, -1,  1,  1,  1,  1, -1,  1,\n",
              "        1,  1,  1,  1,  1,  1,  1,  1,  1,  1,  1,  1,  1,  1,  1,  1,  1,\n",
              "        1, -1,  1, -1,  1,  1,  1, -1, -1,  1,  1,  1,  1,  1,  1, -1,  1,\n",
              "        1,  1,  1,  1, -1,  1,  1, -1,  1,  1,  1, -1, -1,  1,  1, -1,  1,\n",
              "        1,  1,  1,  1,  1,  1,  1,  1, -1,  1,  1,  1,  1,  1, -1,  1,  1,\n",
              "        1,  1,  1,  1,  1,  1,  1,  1,  1,  1, -1, -1, -1,  1, -1,  1,  1,\n",
              "        1,  1, -1,  1,  1,  1,  1,  1,  1,  1,  1,  1,  1,  1,  1,  1,  1,\n",
              "       -1,  1,  1,  1,  1,  1,  1, -1, -1,  1,  1,  1, -1,  1,  1,  1, -1,\n",
              "        1,  1,  1,  1,  1,  1, -1, -1,  1, -1,  1,  1,  1, -1,  1,  1,  1,\n",
              "        1,  1,  1,  1, -1,  1, -1, -1,  1, -1,  1,  1,  1,  1, -1, -1,  1,\n",
              "        1,  1, -1,  1,  1,  1,  1,  1,  1,  1,  1,  1, -1,  1,  1,  1,  1,\n",
              "       -1,  1,  1,  1,  1,  1,  1, -1,  1,  1,  1, -1,  1,  1,  1, -1,  1,\n",
              "        1,  1,  1,  1,  1,  1,  1,  1,  1, -1, -1,  1,  1,  1,  1,  1,  1,\n",
              "       -1,  1,  1,  1,  1, -1,  1, -1, -1,  1])"
            ]
          },
          "metadata": {},
          "execution_count": 29
        }
      ]
    },
    {
      "cell_type": "code",
      "source": [
        "# Feature scaling and transformation\n",
        "#min-max scaling and standarization\n",
        "import pandas as pd\n",
        "from pathlib import Path\n",
        "import matplotlib.pyplot as plt\n",
        "\n",
        "hf = pd.read_csv(Path(\"heart_failure_clinical_records_dataset.csv\"))\n",
        "hf_num = hf.select_dtypes(include=[np.number])\n",
        "\n",
        "from sklearn.preprocessing import StandardScaler, MinMaxScaler\n",
        "\n",
        "#min_max_scalar = MinMaxScaler(feature_range=(-1,1))\n",
        "#hf_minmax_scaled = min_max_scalar.fit_transform(hf_num)\n",
        "\n",
        "std_scalar = StandardScaler()\n",
        "hf_std_scaled = std_scalar.fit_transform(hf_num)\n",
        "\n",
        "#hf_tr_min_max = pd.DataFrame(hf_minmax_scaled, columns=hf_num.columns)\n",
        "#hf_tr_std = pd.DataFrame(hf_std_scaled, columns=hf_num.columns)\n",
        "#hf_tr_min_max.hist(bins=20, figsize=(15,10))\n",
        "#hf_tr_std.hist(bins=20, figsize=(15,10))\n",
        "#plt.show()\n",
        "\n",
        "# Convert long tailed data to uniform distribution\n",
        "#fig, axs = plt.subplots(1, 2, figsize=(8, 3), sharey=True)\n",
        "#hf[\"creatinine_phosphokinase\"].hist(ax=axs[0], bins=50)\n",
        "#hf[\"creatinine_phosphokinase\"].apply(np.log).hist(ax=axs[1], bins=50)\n",
        "#axs[0].set_xlabel(\"creatinine_phosphokinase\")\n",
        "#axs[1].set_xlabel(\"creatinine_phosphokinase\")\n",
        "#axs[0].set_ylabel(\"number_cases\")\n",
        "#save_fig(\"long_tail_plot\")\n",
        "#fig, axs = plt.subplots(1, 2, figsize=(8, 3), sharey=True)\n",
        "#hf['serum_creatinine'].hist(ax=axs[0], bins=50)\n",
        "#hf['serum_creatinine'].apply(np.log).hist(ax=axs[1], bins=50)\n",
        "#axs[0].set_xlabel(\"serum_creatinine\")\n",
        "#axs[1].set_xlabel(\"serum_creatinine\")\n",
        "#axs[0].set_ylabel(\"number_cases\")\n",
        "\n",
        "#plt.show()\n",
        "\n",
        "from sklearn.metrics.pairwise import rbf_kernel\n",
        "# new feature after rbf kernel transformation\n",
        "age_simil_60 = rbf_kernel(hf[['age']], [[60]], gamma=0.1)\n",
        "\n",
        "ages = np.linspace(hf[\"age\"].min(),\n",
        "                   hf[\"age\"].max(),\n",
        "                   500).reshape(-1, 1)\n",
        "gamma1 = 0.1\n",
        "gamma2 = 0.03\n",
        "rbf1 = rbf_kernel(ages, [[60]], gamma=gamma1)\n",
        "rbf2 = rbf_kernel(ages, [[60]], gamma=gamma2)\n",
        "\n",
        "fig, ax1 = plt.subplots()\n",
        "\n",
        "ax1.set_xlabel(\"Patient Age\")\n",
        "ax1.set_ylabel(\"Number of cases\")\n",
        "ax1.hist(hf[\"age\"], bins=50)\n",
        "\n",
        "ax2 = ax1.twinx()  # create a twin axis that shares the same x-axis\n",
        "color = \"blue\"\n",
        "ax2.plot(ages, rbf1, color=color, label=\"gamma = 0.10\")\n",
        "ax2.plot(ages, rbf2, color=color, label=\"gamma = 0.03\", linestyle=\"--\")\n",
        "ax2.tick_params(axis='y', labelcolor=color)\n",
        "ax2.set_ylabel(\"Age similarity\", color=color)\n",
        "\n",
        "plt.legend(loc=\"upper left\")\n",
        "#save_fig(\"age_similarity_plot\")\n",
        "plt.show()\n"
      ],
      "metadata": {
        "colab": {
          "base_uri": "https://localhost:8080/",
          "height": 454
        },
        "id": "vZD7k0fuWqrj",
        "outputId": "6f7e5dbd-fa11-41ae-8f7f-dd7bf32d254a"
      },
      "execution_count": 47,
      "outputs": [
        {
          "output_type": "display_data",
          "data": {
            "text/plain": [
              "<Figure size 640x480 with 2 Axes>"
            ],
            "image/png": "[encoded data removed]"
          },
          "metadata": {}
        }
      ]
    },
    {
      "cell_type": "code",
      "source": [
        "# clustering and measuring similarity\n",
        "import pandas as pd\n",
        "from pathlib import Path\n",
        "import matplotlib.pyplot as plt\n",
        "from sklearn.base import BaseEstimator, TransformerMixin\n",
        "from sklearn.utils.validation import check_array, check_is_fitted\n",
        "\n",
        "hf = pd.read_csv(Path(\"heart_failure_clinical_records_dataset.csv\"))\n",
        "\n",
        "from sklearn.cluster import KMeans\n",
        "\n",
        "class ClusterSimilarity(BaseEstimator, TransformerMixin):\n",
        "    def __init__(self, n_clusters=2, gamma=1.0, random_state=None):\n",
        "        self.n_clusters = n_clusters\n",
        "        self.gamma = gamma\n",
        "        self.random_state = random_state\n",
        "\n",
        "    def fit(self, X, y=None, sample_weight=None):\n",
        "        self.kmeans_ = KMeans(self.n_clusters, random_state=self.random_state)\n",
        "        self.kmeans_.fit(X, sample_weight=sample_weight)\n",
        "        return self  # always return self!\n",
        "\n",
        "    def transform(self, X):\n",
        "        return rbf_kernel(X, self.kmeans_.cluster_centers_, gamma=self.gamma)\n",
        "\n",
        "    def get_feature_names_out(self, names=None):\n",
        "        return [f\"Cluster {i} similarity\" for i in range(self.n_clusters)]\n",
        "\n",
        "cluster_simil = ClusterSimilarity(n_clusters=10, gamma=1., random_state=42)\n",
        "similarities = cluster_simil.fit_transform(hf[[\"serum_creatinine\"]], sample_weight=hf['DEATH_EVENT'])\n",
        "similarities[:3].round(2)\n",
        ""
      ],
      "metadata": {
        "colab": {
          "base_uri": "https://localhost:8080/"
        },
        "id": "A9K4uwsDfnUr",
        "outputId": "ff92a420-8e02-466d-d4ab-e29db7dc38c4"
      },
      "execution_count": 58,
      "outputs": [
        {
          "output_type": "stream",
          "name": "stderr",
          "text": [
            "/usr/local/lib/python3.10/dist-packages/sklearn/cluster/_kmeans.py:870: FutureWarning: The default value of `n_init` will change from 10 to 'auto' in 1.4. Set the value of `n_init` explicitly to suppress the warning\n",
            "  warnings.warn(\n"
          ]
        },
        {
          "output_type": "execute_result",
          "data": {
            "text/plain": [
              "array([[0.49, 0.  , 0.  , 0.85, 0.37, 0.22, 0.99, 0.  , 0.78, 0.02],\n",
              "       [1.  , 0.  , 0.  , 0.24, 0.04, 0.83, 0.59, 0.  , 0.91, 0.  ],\n",
              "       [0.94, 0.  , 0.  , 0.37, 0.08, 0.68, 0.76, 0.  , 0.99, 0.  ]])"
            ]
          },
          "metadata": {},
          "execution_count": 58
        }
      ]
    },
    {
      "cell_type": "code",
      "source": [
        "#Making pipelines\n",
        "from sklearn.pipeline import make_pipeline, Pipeline\n",
        "from sklearn.preprocessing import StandardScaler, FunctionTransformer\n",
        "from sklearn.impute import SimpleImputer\n",
        "from sklearn.compose import ColumnTransformer\n",
        "import pandas as pd\n",
        "from pathlib import Path\n",
        "import matplotlib.pyplot as plt\n",
        "from sklearn.base import BaseEstimator, TransformerMixin\n",
        "from sklearn.utils.validation import check_array, check_is_fitted\n",
        "\n",
        "hf = pd.read_csv(Path(\"heart_failure_clinical_records_dataset.csv\"))\n",
        "\n",
        "num_pipeline = Pipeline([\n",
        "   (\"impute\", SimpleImputer(strategy=\"median\")),\n",
        "   (\"standardize\", StandardScaler())\n",
        "])\n",
        "\n",
        "log_pipeline = make_pipeline(\n",
        "    SimpleImputer(strategy=\"median\"),\n",
        "    FunctionTransformer(np.log, feature_names_out=\"one-to-one\"),\n",
        "    StandardScaler())\n",
        "cluster_simil = ClusterSimilarity(n_clusters=10, gamma=1., random_state=42)\n",
        "default_num_pipeline = make_pipeline(SimpleImputer(strategy=\"median\"),\n",
        "                                     StandardScaler())\n",
        "preprocessing = ColumnTransformer([\n",
        "        (\"log\", log_pipeline, [\"creatinine_phosphokinase\", \"platelets\", \"serum_creatinine\",\n",
        "                               \"serum_sodium\"]),\n",
        "        (\"geo\", cluster_simil, [\"serum_creatinine\"]),\n",
        "    ],\n",
        "    remainder=default_num_pipeline)\n",
        "\n",
        "hf = pd.read_csv(Path(\"heart_failure_clinical_records_dataset.csv\"))\n",
        "hf_prep = preprocessing.fit_transform(hf)\n",
        "hf_prep.shape\n",
        "print(preprocessing.get_feature_names_out())\n"
      ],
      "metadata": {
        "colab": {
          "base_uri": "https://localhost:8080/"
        },
        "id": "0WBFJemKomB2",
        "outputId": "850fe0aa-2e25-4348-f79f-724e41e83c05"
      },
      "execution_count": 62,
      "outputs": [
        {
          "output_type": "stream",
          "name": "stderr",
          "text": [
            "/usr/local/lib/python3.10/dist-packages/sklearn/cluster/_kmeans.py:870: FutureWarning: The default value of `n_init` will change from 10 to 'auto' in 1.4. Set the value of `n_init` explicitly to suppress the warning\n",
            "  warnings.warn(\n"
          ]
        },
        {
          "output_type": "stream",
          "name": "stdout",
          "text": [
            "['log__creatinine_phosphokinase' 'log__platelets' 'log__serum_creatinine'\n",
            " 'log__serum_sodium' 'geo__Cluster 0 similarity'\n",
            " 'geo__Cluster 1 similarity' 'geo__Cluster 2 similarity'\n",
            " 'geo__Cluster 3 similarity' 'geo__Cluster 4 similarity'\n",
            " 'geo__Cluster 5 similarity' 'geo__Cluster 6 similarity'\n",
            " 'geo__Cluster 7 similarity' 'geo__Cluster 8 similarity'\n",
            " 'geo__Cluster 9 similarity' 'remainder__age' 'remainder__anaemia'\n",
            " 'remainder__diabetes' 'remainder__ejection_fraction'\n",
            " 'remainder__high_blood_pressure' 'remainder__sex' 'remainder__smoking'\n",
            " 'remainder__time' 'remainder__DEATH_EVENT']\n"
          ]
        }
      ]
    },
    {
      "cell_type": "markdown",
      "source": [
        "Build and Train models"
      ],
      "metadata": {
        "id": "WPzj0rPDs1bh"
      }
    },
    {
      "cell_type": "code",
      "source": [
        "from sklearn.pipeline import make_pipeline, Pipeline\n",
        "from sklearn.preprocessing import StandardScaler, FunctionTransformer\n",
        "from sklearn.impute import SimpleImputer\n",
        "from sklearn.compose import ColumnTransformer\n",
        "import pandas as pd\n",
        "from pathlib import Path\n",
        "\n",
        "\n",
        "hf = pd.read_csv(Path(\"heart_failure_clinical_records_dataset.csv\"))\n",
        "\n",
        "num_pipeline = Pipeline([\n",
        "   (\"impute\", SimpleImputer(strategy=\"median\")),\n",
        "   (\"standardize\", StandardScaler())\n",
        "])\n",
        "\n",
        "log_pipeline = make_pipeline(\n",
        "    SimpleImputer(strategy=\"median\"),\n",
        "    FunctionTransformer(np.log, feature_names_out=\"one-to-one\"),\n",
        "    StandardScaler())\n",
        "cluster_simil = ClusterSimilarity(n_clusters=10, gamma=1., random_state=42)\n",
        "default_num_pipeline = make_pipeline(SimpleImputer(strategy=\"median\"),\n",
        "                                     StandardScaler())\n",
        "preprocessing = ColumnTransformer([\n",
        "        (\"log\", log_pipeline, [\"creatinine_phosphokinase\", \"platelets\", \"serum_creatinine\",\n",
        "                               \"serum_sodium\"]),\n",
        "        (\"geo\", cluster_simil, [\"serum_creatinine\"]),\n",
        "    ],\n",
        "    remainder=default_num_pipeline)\n",
        "\n",
        "hf = pd.read_csv(Path(\"heart_failure_clinical_records_dataset.csv\"))\n",
        "hf_train = hf.drop(\"DEATH_EVENT\", axis=1)\n",
        "hf_labels = hf[\"DEATH_EVENT\"].copy()\n",
        "from sklearn.model_selection import train_test_split\n",
        "\n",
        "strat_train_set, strat_test_set = train_test_split(\n",
        "    hf, test_size=0.2, random_state=42)\n",
        "\n",
        "hf_train = strat_train_set.drop(\"DEATH_EVENT\", axis=1)\n",
        "hf_train_labels = strat_train_set[\"DEATH_EVENT\"].copy()\n",
        "\n",
        "hf_test = strat_test_set.drop(\"DEATH_EVENT\", axis=1)\n",
        "hf_test_labels = strat_test_set[\"DEATH_EVENT\"].copy()\n",
        "\n",
        "from sklearn.linear_model import LogisticRegression\n",
        "\n",
        "lin_reg = make_pipeline(preprocessing, LogisticRegression)\n",
        "lin_reg.fit(hf_train, hf_train_labels,y= hf_train_labels[\"DEATH_EVENTS\"])\n",
        "print(lin_reg.score(hf_test, y=hf_test_labels))"
      ],
      "metadata": {
        "colab": {
          "base_uri": "https://localhost:8080/",
          "height": 478
        },
        "id": "xcLv0aobs3xv",
        "outputId": "56213822-30d8-4894-8a20-4c2cfe024254"
      },
      "execution_count": 68,
      "outputs": [
        {
          "output_type": "error",
          "ename": "KeyError",
          "evalue": "ignored",
          "traceback": [
            "\u001b[0;31m---------------------------------------------------------------------------\u001b[0m",
            "\u001b[0;31mKeyError\u001b[0m                                  Traceback (most recent call last)",
            "\u001b[0;32m/usr/local/lib/python3.10/dist-packages/pandas/core/indexes/base.py\u001b[0m in \u001b[0;36mget_loc\u001b[0;34m(self, key, method, tolerance)\u001b[0m\n\u001b[1;32m   3801\u001b[0m             \u001b[0;32mtry\u001b[0m\u001b[0;34m:\u001b[0m\u001b[0;34m\u001b[0m\u001b[0;34m\u001b[0m\u001b[0m\n\u001b[0;32m-> 3802\u001b[0;31m                 \u001b[0;32mreturn\u001b[0m \u001b[0mself\u001b[0m\u001b[0;34m.\u001b[0m\u001b[0m_engine\u001b[0m\u001b[0;34m.\u001b[0m\u001b[0mget_loc\u001b[0m\u001b[0;34m(\u001b[0m\u001b[0mcasted_key\u001b[0m\u001b[0;34m)\u001b[0m\u001b[0;34m\u001b[0m\u001b[0;34m\u001b[0m\u001b[0m\n\u001b[0m\u001b[1;32m   3803\u001b[0m             \u001b[0;32mexcept\u001b[0m \u001b[0mKeyError\u001b[0m \u001b[0;32mas\u001b[0m \u001b[0merr\u001b[0m\u001b[0;34m:\u001b[0m\u001b[0;34m\u001b[0m\u001b[0;34m\u001b[0m\u001b[0m\n",
            "\u001b[0;32m/usr/local/lib/python3.10/dist-packages/pandas/_libs/index.pyx\u001b[0m in \u001b[0;36mpandas._libs.index.IndexEngine.get_loc\u001b[0;34m()\u001b[0m\n",
            "\u001b[0;32m/usr/local/lib/python3.10/dist-packages/pandas/_libs/index.pyx\u001b[0m in \u001b[0;36mpandas._libs.index.IndexEngine.get_loc\u001b[0;34m()\u001b[0m\n",
            "\u001b[0;32mpandas/_libs/index_class_helper.pxi\u001b[0m in \u001b[0;36mpandas._libs.index.Int64Engine._check_type\u001b[0;34m()\u001b[0m\n",
            "\u001b[0;31mKeyError\u001b[0m: 'DEATH_EVENT'",
            "\nThe above exception was the direct cause of the following exception:\n",
            "\u001b[0;31mKeyError\u001b[0m                                  Traceback (most recent call last)",
            "\u001b[0;32m<ipython-input-68-b37d84a1701c>\u001b[0m in \u001b[0;36m<cell line: 47>\u001b[0;34m()\u001b[0m\n\u001b[1;32m     45\u001b[0m \u001b[0;34m\u001b[0m\u001b[0m\n\u001b[1;32m     46\u001b[0m \u001b[0mlin_reg\u001b[0m \u001b[0;34m=\u001b[0m \u001b[0mmake_pipeline\u001b[0m\u001b[0;34m(\u001b[0m\u001b[0mpreprocessing\u001b[0m\u001b[0;34m,\u001b[0m \u001b[0mLogisticRegression\u001b[0m\u001b[0;34m)\u001b[0m\u001b[0;34m\u001b[0m\u001b[0;34m\u001b[0m\u001b[0m\n\u001b[0;32m---> 47\u001b[0;31m \u001b[0mlin_reg\u001b[0m\u001b[0;34m.\u001b[0m\u001b[0mfit\u001b[0m\u001b[0;34m(\u001b[0m\u001b[0mhf_train\u001b[0m\u001b[0;34m,\u001b[0m \u001b[0mhf_train_labels\u001b[0m\u001b[0;34m,\u001b[0m\u001b[0my\u001b[0m\u001b[0;34m=\u001b[0m \u001b[0mhf_train_labels\u001b[0m\u001b[0;34m[\u001b[0m\u001b[0;34m\"DEATH_EVENT\"\u001b[0m\u001b[0;34m]\u001b[0m\u001b[0;34m)\u001b[0m\u001b[0;34m\u001b[0m\u001b[0;34m\u001b[0m\u001b[0m\n\u001b[0m\u001b[1;32m     48\u001b[0m \u001b[0mprint\u001b[0m\u001b[0;34m(\u001b[0m\u001b[0mlin_reg\u001b[0m\u001b[0;34m.\u001b[0m\u001b[0mscore\u001b[0m\u001b[0;34m(\u001b[0m\u001b[0mhf_test\u001b[0m\u001b[0;34m,\u001b[0m \u001b[0my\u001b[0m\u001b[0;34m=\u001b[0m\u001b[0mhf_test_labels\u001b[0m\u001b[0;34m)\u001b[0m\u001b[0;34m)\u001b[0m\u001b[0;34m\u001b[0m\u001b[0;34m\u001b[0m\u001b[0m\n",
            "\u001b[0;32m/usr/local/lib/python3.10/dist-packages/pandas/core/series.py\u001b[0m in \u001b[0;36m__getitem__\u001b[0;34m(self, key)\u001b[0m\n\u001b[1;32m    979\u001b[0m \u001b[0;34m\u001b[0m\u001b[0m\n\u001b[1;32m    980\u001b[0m         \u001b[0;32melif\u001b[0m \u001b[0mkey_is_scalar\u001b[0m\u001b[0;34m:\u001b[0m\u001b[0;34m\u001b[0m\u001b[0;34m\u001b[0m\u001b[0m\n\u001b[0;32m--> 981\u001b[0;31m             \u001b[0;32mreturn\u001b[0m \u001b[0mself\u001b[0m\u001b[0;34m.\u001b[0m\u001b[0m_get_value\u001b[0m\u001b[0;34m(\u001b[0m\u001b[0mkey\u001b[0m\u001b[0;34m)\u001b[0m\u001b[0;34m\u001b[0m\u001b[0;34m\u001b[0m\u001b[0m\n\u001b[0m\u001b[1;32m    982\u001b[0m \u001b[0;34m\u001b[0m\u001b[0m\n\u001b[1;32m    983\u001b[0m         \u001b[0;32mif\u001b[0m \u001b[0mis_hashable\u001b[0m\u001b[0;34m(\u001b[0m\u001b[0mkey\u001b[0m\u001b[0;34m)\u001b[0m\u001b[0;34m:\u001b[0m\u001b[0;34m\u001b[0m\u001b[0;34m\u001b[0m\u001b[0m\n",
            "\u001b[0;32m/usr/local/lib/python3.10/dist-packages/pandas/core/series.py\u001b[0m in \u001b[0;36m_get_value\u001b[0;34m(self, label, takeable)\u001b[0m\n\u001b[1;32m   1087\u001b[0m \u001b[0;34m\u001b[0m\u001b[0m\n\u001b[1;32m   1088\u001b[0m         \u001b[0;31m# Similar to Index.get_value, but we do not fall back to positional\u001b[0m\u001b[0;34m\u001b[0m\u001b[0;34m\u001b[0m\u001b[0m\n\u001b[0;32m-> 1089\u001b[0;31m         \u001b[0mloc\u001b[0m \u001b[0;34m=\u001b[0m \u001b[0mself\u001b[0m\u001b[0;34m.\u001b[0m\u001b[0mindex\u001b[0m\u001b[0;34m.\u001b[0m\u001b[0mget_loc\u001b[0m\u001b[0;34m(\u001b[0m\u001b[0mlabel\u001b[0m\u001b[0;34m)\u001b[0m\u001b[0;34m\u001b[0m\u001b[0;34m\u001b[0m\u001b[0m\n\u001b[0m\u001b[1;32m   1090\u001b[0m         \u001b[0;32mreturn\u001b[0m \u001b[0mself\u001b[0m\u001b[0;34m.\u001b[0m\u001b[0mindex\u001b[0m\u001b[0;34m.\u001b[0m\u001b[0m_get_values_for_loc\u001b[0m\u001b[0;34m(\u001b[0m\u001b[0mself\u001b[0m\u001b[0;34m,\u001b[0m \u001b[0mloc\u001b[0m\u001b[0;34m,\u001b[0m \u001b[0mlabel\u001b[0m\u001b[0;34m)\u001b[0m\u001b[0;34m\u001b[0m\u001b[0;34m\u001b[0m\u001b[0m\n\u001b[1;32m   1091\u001b[0m \u001b[0;34m\u001b[0m\u001b[0m\n",
            "\u001b[0;32m/usr/local/lib/python3.10/dist-packages/pandas/core/indexes/base.py\u001b[0m in \u001b[0;36mget_loc\u001b[0;34m(self, key, method, tolerance)\u001b[0m\n\u001b[1;32m   3802\u001b[0m                 \u001b[0;32mreturn\u001b[0m \u001b[0mself\u001b[0m\u001b[0;34m.\u001b[0m\u001b[0m_engine\u001b[0m\u001b[0;34m.\u001b[0m\u001b[0mget_loc\u001b[0m\u001b[0;34m(\u001b[0m\u001b[0mcasted_key\u001b[0m\u001b[0;34m)\u001b[0m\u001b[0;34m\u001b[0m\u001b[0;34m\u001b[0m\u001b[0m\n\u001b[1;32m   3803\u001b[0m             \u001b[0;32mexcept\u001b[0m \u001b[0mKeyError\u001b[0m \u001b[0;32mas\u001b[0m \u001b[0merr\u001b[0m\u001b[0;34m:\u001b[0m\u001b[0;34m\u001b[0m\u001b[0;34m\u001b[0m\u001b[0m\n\u001b[0;32m-> 3804\u001b[0;31m                 \u001b[0;32mraise\u001b[0m \u001b[0mKeyError\u001b[0m\u001b[0;34m(\u001b[0m\u001b[0mkey\u001b[0m\u001b[0;34m)\u001b[0m \u001b[0;32mfrom\u001b[0m \u001b[0merr\u001b[0m\u001b[0;34m\u001b[0m\u001b[0;34m\u001b[0m\u001b[0m\n\u001b[0m\u001b[1;32m   3805\u001b[0m             \u001b[0;32mexcept\u001b[0m \u001b[0mTypeError\u001b[0m\u001b[0;34m:\u001b[0m\u001b[0;34m\u001b[0m\u001b[0;34m\u001b[0m\u001b[0m\n\u001b[1;32m   3806\u001b[0m                 \u001b[0;31m# If we have a listlike key, _check_indexing_error will raise\u001b[0m\u001b[0;34m\u001b[0m\u001b[0;34m\u001b[0m\u001b[0m\n",
            "\u001b[0;31mKeyError\u001b[0m: 'DEATH_EVENT'"
          ]
        }
      ]
    }
  ]
}